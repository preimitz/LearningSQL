{
 "cells": [
  {
   "cell_type": "markdown",
   "id": "1254b0ba",
   "metadata": {},
   "source": [
    "# Introduction to Databases\n",
    "\n",
    "In this chapter, we won't work directly with SQL but will more talk about the history of computerized databases.\n",
    "\n",
    "To experiment with the data used for the examples, I downloaded and installed MySQL."
   ]
  },
  {
   "cell_type": "code",
   "execution_count": null,
   "id": "81e9175b",
   "metadata": {},
   "outputs": [],
   "source": []
  }
 ],
 "metadata": {
  "kernelspec": {
   "display_name": "Python 3 (ipykernel)",
   "language": "python",
   "name": "python3"
  },
  "language_info": {
   "codemirror_mode": {
    "name": "ipython",
    "version": 3
   },
   "file_extension": ".py",
   "mimetype": "text/x-python",
   "name": "python",
   "nbconvert_exporter": "python",
   "pygments_lexer": "ipython3",
   "version": "3.10.13"
  }
 },
 "nbformat": 4,
 "nbformat_minor": 5
}
