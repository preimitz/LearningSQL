{
 "cells": [
  {
   "cell_type": "markdown",
   "id": "c720ec11",
   "metadata": {},
   "source": [
    "# Introduction to Databases\n",
    "\n",
    "In this chapter, we won't work directly with SQL but will more talk about the history of computerized databases.\n",
    "\n",
    "To experiment with the data used for the examples, I downloaded and installed MySQL, and loaded the sakila examplease database."
   ]
  },
  {
   "cell_type": "markdown",
   "id": "b6689962",
   "metadata": {},
   "source": [
    "## Definition of Database\n",
    "\n",
    "A database is a set of related information. In a database, we would like to\n",
    "* find information quickly\n",
    "* find information easily\n",
    "* be able to update it easily\n",
    "\n",
    "\n",
    "### Types of Database Systems\n",
    "\n",
    "1. Nonrelational Database Systems: "
   ]
  },
  {
   "cell_type": "code",
   "execution_count": null,
   "id": "885264f2",
   "metadata": {},
   "outputs": [],
   "source": []
  }
 ],
 "metadata": {
  "kernelspec": {
   "display_name": "Python 3 (ipykernel)",
   "language": "python",
   "name": "python3"
  },
  "language_info": {
   "codemirror_mode": {
    "name": "ipython",
    "version": 3
   },
   "file_extension": ".py",
   "mimetype": "text/x-python",
   "name": "python",
   "nbconvert_exporter": "python",
   "pygments_lexer": "ipython3",
   "version": "3.10.13"
  }
 },
 "nbformat": 4,
 "nbformat_minor": 5
}
